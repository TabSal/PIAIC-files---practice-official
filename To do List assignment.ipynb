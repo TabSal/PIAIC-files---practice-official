{
 "cells": [
  {
   "cell_type": "code",
   "execution_count": 3,
   "metadata": {},
   "outputs": [
    {
     "name": "stdout",
     "output_type": "stream",
     "text": [
      "Enter a task : exercise\n",
      "['Meeting', 'Prayers', 'Lunch', 'Shopping', 'exercise']\n"
     ]
    }
   ],
   "source": [
    "To_do_list =[\"Meeting\", \"Prayers\", \"Lunch\", \"Shopping\"]\n",
    "a= input(\"Enter a task : \")\n",
    "To_do_list.append (a)\n",
    "print (To_do_list)"
   ]
  },
  {
   "cell_type": "code",
   "execution_count": 4,
   "metadata": {},
   "outputs": [
    {
     "name": "stdout",
     "output_type": "stream",
     "text": [
      "Enter a task completed: Lunch\n"
     ]
    }
   ],
   "source": [
    "b= input(\"Enter a task completed: \")\n",
    "To_do_list.remove (b)"
   ]
  },
  {
   "cell_type": "code",
   "execution_count": 5,
   "metadata": {},
   "outputs": [
    {
     "name": "stdout",
     "output_type": "stream",
     "text": [
      "['Meeting', 'Prayers', 'Shopping', 'exercise']\n"
     ]
    }
   ],
   "source": [
    "print(To_do_list)"
   ]
  },
  {
   "cell_type": "code",
   "execution_count": null,
   "metadata": {},
   "outputs": [],
   "source": []
  }
 ],
 "metadata": {
  "kernelspec": {
   "display_name": "Python 3",
   "language": "python",
   "name": "python3"
  },
  "language_info": {
   "codemirror_mode": {
    "name": "ipython",
    "version": 3
   },
   "file_extension": ".py",
   "mimetype": "text/x-python",
   "name": "python",
   "nbconvert_exporter": "python",
   "pygments_lexer": "ipython3",
   "version": "3.7.3"
  }
 },
 "nbformat": 4,
 "nbformat_minor": 2
}
