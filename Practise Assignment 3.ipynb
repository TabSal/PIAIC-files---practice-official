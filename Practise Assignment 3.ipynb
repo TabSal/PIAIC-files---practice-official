{
 "cells": [
  {
   "cell_type": "markdown",
   "metadata": {},
   "source": [
    "# Q1:"
   ]
  },
  {
   "cell_type": "markdown",
   "metadata": {},
   "source": [
    "Think of at least three kinds of your favorite pizza. Store these pizza names in a list, and then use a for loop to print the name of each pizza."
   ]
  },
  {
   "cell_type": "code",
   "execution_count": 1,
   "metadata": {},
   "outputs": [],
   "source": [
    "Pizza_Names= [\"Margherita\", \"Rich Chicken Alfredo\", \"Sicilian Thin Crust\"]"
   ]
  },
  {
   "cell_type": "code",
   "execution_count": 2,
   "metadata": {},
   "outputs": [
    {
     "name": "stdout",
     "output_type": "stream",
     "text": [
      "Margherita\n",
      "Rich Chicken Alfredo\n",
      "Sicilian Thin Crust\n"
     ]
    }
   ],
   "source": [
    "for a in Pizza_Names:\n",
    "    print(a)"
   ]
  },
  {
   "cell_type": "markdown",
   "metadata": {},
   "source": [
    "# Q2"
   ]
  },
  {
   "cell_type": "markdown",
   "metadata": {},
   "source": [
    "Start with your last question , Modify your for loop to print a sentence using the name of the pizza\n",
    "instead of printing just the name of the pizza. For each pizza you should\n",
    "have one line of output containing a simple statement like I like pepperoni\n",
    "pizza."
   ]
  },
  {
   "cell_type": "code",
   "execution_count": 3,
   "metadata": {},
   "outputs": [
    {
     "name": "stdout",
     "output_type": "stream",
     "text": [
      "I would like to order Margherita\n",
      "I would like to order Rich Chicken Alfredo\n",
      "I would like to order Sicilian Thin Crust\n"
     ]
    }
   ],
   "source": [
    "Pizza_Names= [\"Margherita\", \"Rich Chicken Alfredo\", \"Sicilian Thin Crust\"]\n",
    "for b in Pizza_Names:\n",
    "    print(\"I would like to order\", b)"
   ]
  },
  {
   "cell_type": "markdown",
   "metadata": {},
   "source": [
    "# Q3:"
   ]
  },
  {
   "cell_type": "markdown",
   "metadata": {},
   "source": [
    "Use a for loop to print the numbers from 1 to 20,\n",
    "inclusive."
   ]
  },
  {
   "cell_type": "code",
   "execution_count": 4,
   "metadata": {},
   "outputs": [
    {
     "name": "stdout",
     "output_type": "stream",
     "text": [
      "1\n",
      "2\n",
      "3\n",
      "4\n",
      "5\n",
      "6\n",
      "7\n",
      "8\n",
      "9\n",
      "10\n",
      "11\n",
      "12\n",
      "13\n",
      "14\n",
      "15\n",
      "16\n",
      "17\n",
      "18\n",
      "19\n",
      "20\n"
     ]
    }
   ],
   "source": [
    "for a in range(1,21):\n",
    "    print (a)"
   ]
  },
  {
   "cell_type": "markdown",
   "metadata": {},
   "source": [
    "# Q4:"
   ]
  },
  {
   "cell_type": "markdown",
   "metadata": {},
   "source": [
    "Use the third argument of the range() function to make a list\n",
    "of the odd numbers from 1 to 20. Use a for loop to print each number."
   ]
  },
  {
   "cell_type": "code",
   "execution_count": 5,
   "metadata": {},
   "outputs": [
    {
     "name": "stdout",
     "output_type": "stream",
     "text": [
      "1\n",
      "3\n",
      "5\n",
      "7\n",
      "9\n",
      "11\n",
      "13\n",
      "15\n",
      "17\n",
      "19\n"
     ]
    }
   ],
   "source": [
    "for d in range (1,21):\n",
    "    if d%2!=0:\n",
    "       print (d)"
   ]
  },
  {
   "cell_type": "markdown",
   "metadata": {},
   "source": [
    "# Q5:"
   ]
  },
  {
   "cell_type": "markdown",
   "metadata": {},
   "source": [
    "Make a list of the multiples of 3 from 3 to 30. Use a for loop to\n",
    "print the numbers in your list."
   ]
  },
  {
   "cell_type": "code",
   "execution_count": 6,
   "metadata": {},
   "outputs": [
    {
     "name": "stdout",
     "output_type": "stream",
     "text": [
      "3\n",
      "6\n",
      "9\n",
      "12\n",
      "15\n",
      "18\n",
      "21\n",
      "24\n",
      "27\n",
      "30\n"
     ]
    }
   ],
   "source": [
    "for c in range(1,11):\n",
    "    print(3*c)"
   ]
  },
  {
   "cell_type": "markdown",
   "metadata": {},
   "source": [
    "# Q6:"
   ]
  },
  {
   "cell_type": "markdown",
   "metadata": {},
   "source": [
    "A number raised to the third power is called a cube. For example,\n",
    "the cube of 2 is written as 2**3 in Python. Make a list of the first 10 cubes (that\n",
    "is, the cube of each integer from 1 through 10), and use a for loop to print out\n",
    "the value of each cube"
   ]
  },
  {
   "cell_type": "code",
   "execution_count": 7,
   "metadata": {},
   "outputs": [
    {
     "name": "stdout",
     "output_type": "stream",
     "text": [
      "1\n",
      "8\n",
      "27\n",
      "64\n",
      "125\n",
      "216\n",
      "343\n",
      "512\n",
      "729\n",
      "1000\n"
     ]
    }
   ],
   "source": [
    "for e in range(1,11):\n",
    "    print(e**3)"
   ]
  },
  {
   "cell_type": "markdown",
   "metadata": {},
   "source": [
    "# Q7:"
   ]
  },
  {
   "cell_type": "markdown",
   "metadata": {},
   "source": [
    "###### Make a python program that conatains your nine favourite dishes in a list called foods.\n",
    "\n",
    "###### Print the message, The first three items in the list are:. \n",
    "###### Then use a slice to print the first three items from that program’s list.\n",
    "\n",
    "###### Print the message, Three items from the middle of the list are:\n",
    "###### Use a slice to print three items from the middle of the list.\n",
    "\n",
    "###### Print the message, The last three items in the list are:\n",
    "###### Use a slice to print the last three items in the list."
   ]
  },
  {
   "cell_type": "code",
   "execution_count": 8,
   "metadata": {},
   "outputs": [],
   "source": [
    "Foods = [\"Chicken Shashlik\",\"Pani Puri\",\"Samosa\",\"Chicken Tikka\",\"Shawarma\",\"Biryani\",\"Caramel Pudding\",\"Falooda\",\"Ice cream\"]"
   ]
  },
  {
   "cell_type": "code",
   "execution_count": 9,
   "metadata": {},
   "outputs": [
    {
     "name": "stdout",
     "output_type": "stream",
     "text": [
      "['Chicken Shashlik', 'Pani Puri', 'Samosa']\n",
      "['Chicken Tikka', 'Shawarma', 'Biryani']\n",
      "['Caramel Pudding', 'Falooda', 'Ice cream']\n"
     ]
    }
   ],
   "source": [
    "appetizers = slice(3)\n",
    "entrees = slice(3,6)\n",
    "desserts = slice(6,9)\n",
    "print (Foods[appetizers])\n",
    "print (Foods[entrees])\n",
    "print (Foods[desserts])"
   ]
  },
  {
   "cell_type": "markdown",
   "metadata": {},
   "source": [
    "# Q8:"
   ]
  },
  {
   "cell_type": "markdown",
   "metadata": {},
   "source": [
    "### Start with your program from your last Question8.\n",
    "###### Make a copy of the list of foods, and call it friend_foods.\n",
    "###### Then, do the following:\n",
    "######    Add a new dish to the original list.\n",
    "######    Add a different dish to the list friend_foodss.\n",
    "######    Prove that you have two separate lists. \n",
    "###### Print the message, My favorite pizzas are: and then use a for loop to print the first list. \n",
    "###### Print the message,\n",
    "###### My friend’s favorite foods are:, and then use a for loop to print the second list.\n",
    "    \n",
    "##### NOTE: Make sure each new dish is stored in the appropriate list."
   ]
  },
  {
   "cell_type": "code",
   "execution_count": 10,
   "metadata": {},
   "outputs": [
    {
     "name": "stdout",
     "output_type": "stream",
     "text": [
      "['Margherita', 'Rich Chicken Alfredo', 'Sicilian Thin Crust', 'Chicago Deep Dish']\n",
      "['Margherita', 'Rich Chicken Alfredo', 'Sicilian Thin Crust', 'Mediterranean Pesto']\n"
     ]
    }
   ],
   "source": [
    "foods = [\"Margherita\", \"Rich Chicken Alfredo\", \"Sicilian Thin Crust\"]\n",
    "friends_foods = [\"Margherita\", \"Rich Chicken Alfredo\", \"Sicilian Thin Crust\"]\n",
    "foods.append(\"Chicago Deep Dish\")\n",
    "friends_foods.append(\"Mediterranean Pesto\")\n",
    "print (foods)\n",
    "print (friends_foods)"
   ]
  },
  {
   "cell_type": "code",
   "execution_count": 11,
   "metadata": {},
   "outputs": [
    {
     "name": "stdout",
     "output_type": "stream",
     "text": [
      "['Chicago Deep Dish']\n",
      "This proves that the two lists were not the same lists\n"
     ]
    }
   ],
   "source": [
    "unique_foods = []\n",
    "for pizza in foods:\n",
    "    if pizza not in friends_foods:\n",
    "        unique_foods.append(pizza)\n",
    "        print(unique_foods)\n",
    "        if unique_foods!=0:\n",
    "            print(\"This proves that the two lists were not the same lists\")"
   ]
  },
  {
   "cell_type": "markdown",
   "metadata": {},
   "source": [
    "# Q9:"
   ]
  },
  {
   "cell_type": "markdown",
   "metadata": {},
   "source": [
    "Take a user input from console line.Store it in a variable called Alien_color.\n",
    "\n",
    "If the alien’s color is red, print a statement that the player just earned 5 points for shooting the alien.\n",
    "\n",
    "If the alien’s color isn’t green, print a statement that the player just earned 10 points.\n",
    "\n",
    "If the alien's color isn't red or green , print a statment :, Alien is no more....."
   ]
  },
  {
   "cell_type": "code",
   "execution_count": 12,
   "metadata": {},
   "outputs": [
    {
     "name": "stdout",
     "output_type": "stream",
     "text": [
      "Enter a color teal\n"
     ]
    }
   ],
   "source": [
    "Alien_color = input(\"Enter a color \")"
   ]
  },
  {
   "cell_type": "code",
   "execution_count": 13,
   "metadata": {},
   "outputs": [
    {
     "name": "stdout",
     "output_type": "stream",
     "text": [
      "Alien is no more\n"
     ]
    }
   ],
   "source": [
    "if Alien_color == \"red\":\n",
    "    print (\"Player earned 5 points for shooting the alien\")\n",
    "elif Alien_color == \"green\":\n",
    "    print(\"Player earned 10 points\")\n",
    "else:\n",
    "    print(\"Alien is no more\")"
   ]
  },
  {
   "cell_type": "markdown",
   "metadata": {},
   "source": [
    "# Q10:"
   ]
  },
  {
   "cell_type": "markdown",
   "metadata": {},
   "source": [
    "Write an if-elif-else chain that determines a person’s\n",
    "stage of life. Set a value for the variable age, and then:\n",
    "    \n",
    "•\t If the person is less than 2 years old, print a message that the person is a baby.\n",
    "\n",
    "•\t If the person is at least 2 years old but less than 4, print a message that the person is a toddler.\n",
    "\n",
    "•\t If the person is at least 4 years old but less than 13, print a message that the person is a kid.\n",
    "\n",
    "•\t If the person is at least 13 years old but less than 20, print a message that the person is a teenager.\n",
    "\n",
    "•\t If the person is at least 20 years old but less than 65, print a message that the person is an adult.\n",
    "\n",
    "•\t If the person is age 65 or older, print a message that the person is an elder."
   ]
  },
  {
   "cell_type": "code",
   "execution_count": 14,
   "metadata": {},
   "outputs": [
    {
     "name": "stdout",
     "output_type": "stream",
     "text": [
      "Enter the age 87\n"
     ]
    }
   ],
   "source": [
    "age = float(input(\"Enter the age \"))"
   ]
  },
  {
   "cell_type": "code",
   "execution_count": 15,
   "metadata": {},
   "outputs": [
    {
     "name": "stdout",
     "output_type": "stream",
     "text": [
      "The person is an elder\n"
     ]
    }
   ],
   "source": [
    "if age <= 2:\n",
    "    print(\"The person is a baby\")\n",
    "elif age<= 4:\n",
    "    print(\"The person is a toddler\")\n",
    "elif age<=13:\n",
    "    print(\"The person is a kid\")\n",
    "elif age<=20:\n",
    "    print(\"The person is a teenager\")\n",
    "elif age<=65:\n",
    "    print(\"The person is an adult\")\n",
    "else:\n",
    "    print(\"The person is an elder\")"
   ]
  },
  {
   "cell_type": "markdown",
   "metadata": {},
   "source": [
    "# Q11:"
   ]
  },
  {
   "cell_type": "markdown",
   "metadata": {},
   "source": [
    "Do the following to create a program that simulates how websites ensure that everyone has a unique username.\n",
    "\n",
    "•\t Make a list of five or more usernames called current_users.\n",
    "\n",
    "•\t Make another list of five usernames called new_users. \n",
    "Make sure one or two of the new usernames are also in the current_users list.\n",
    "\n",
    "•\t Loop through the new_users list to see if each new username has already been used. \n",
    "If it has, print a message that the person will need to enter a new username. \n",
    "If a username has not been used, print a message saying that the username is available.\n",
    "\n",
    "•\t Make sure your comparison is case insensitive. If 'John' has been used, 'JOHN' should not be accepted."
   ]
  },
  {
   "cell_type": "code",
   "execution_count": 16,
   "metadata": {},
   "outputs": [
    {
     "name": "stdout",
     "output_type": "stream",
     "text": [
      "DAVIS as username is available\n",
      "MILLER as username is available\n",
      "MOORE as username is available\n"
     ]
    }
   ],
   "source": [
    "current_users = [\"SMITH\", \"JOHNSON\", \"WILLIAMS\", \"JONES\", \"BROWN\"]\n",
    "new_users = [\"DAVIS\",\"MILLER\",\"WILLIAMS\",\"MOORE\",\"JONES\"]\n",
    "unique_names = []\n",
    "for names in new_users:\n",
    "    if names not in current_users:\n",
    "        unique_names.append(names)\n",
    "        print(names, \"as username is available\")\n",
    "        if unique_names==current_users:\n",
    "            print(\"You need to enter a new username\")\n",
    "        "
   ]
  },
  {
   "cell_type": "markdown",
   "metadata": {},
   "source": [
    "# Q12:"
   ]
  },
  {
   "cell_type": "markdown",
   "metadata": {},
   "source": [
    "Use a dictionary to store information about a person you know.\n",
    "Store their first name, last name, age, and the city in which they live. \n",
    "You should have keys such as first_name, last_name, age, and city. \n",
    "Print each piece of information stored in your dictionary"
   ]
  },
  {
   "cell_type": "code",
   "execution_count": 17,
   "metadata": {},
   "outputs": [],
   "source": [
    "Mr_A = {\"first_name: Ahmed\",\"last_name: Shah\",\"age: 45\",\"city: Karachi\"}"
   ]
  },
  {
   "cell_type": "code",
   "execution_count": 18,
   "metadata": {},
   "outputs": [
    {
     "name": "stdout",
     "output_type": "stream",
     "text": [
      "{'city: Karachi', 'age: 45', 'last_name: Shah', 'first_name: Ahmed'}\n"
     ]
    }
   ],
   "source": [
    "print(Mr_A)"
   ]
  },
  {
   "cell_type": "markdown",
   "metadata": {},
   "source": [
    "# Q13:"
   ]
  },
  {
   "cell_type": "markdown",
   "metadata": {},
   "source": [
    "Starts with your last question 12 , loop through the dictionary’s keys and values.\n",
    "When you’re sure that your loop works, add five more Python terms to your\n",
    "dictionary . When you run your program again, these new words and meanings\n",
    "should automatically be included in the output."
   ]
  },
  {
   "cell_type": "code",
   "execution_count": 19,
   "metadata": {},
   "outputs": [],
   "source": [
    "Mr_A = {\"first_name: Ahmed\",\"last_name: Shah\",\"age: 45\",\"city: Karachi\",\"tuple : \",\"list : \",\"separator : \",\"class : \",}"
   ]
  },
  {
   "cell_type": "code",
   "execution_count": 20,
   "metadata": {},
   "outputs": [
    {
     "name": "stdout",
     "output_type": "stream",
     "text": [
      "{'class : ', 'last_name: Shah', 'list : ', 'separator : ', 'city: Karachi', 'tuple : ', 'age: 45', 'first_name: Ahmed'}\n"
     ]
    }
   ],
   "source": [
    "print(Mr_A)"
   ]
  },
  {
   "cell_type": "markdown",
   "metadata": {},
   "source": [
    "# Q14:"
   ]
  },
  {
   "cell_type": "markdown",
   "metadata": {},
   "source": [
    "Make a dictionary containing three major rivers and the country\n",
    "each river runs through. One key-value pair might be 'nile': 'egypt'.\n",
    "    \n",
    "    \n",
    "•\t Use a loop to print a sentence about each river, such as The Nile runs\n",
    "through Egypt.\n",
    "\n",
    "NOTE: use upper case through keys and values."
   ]
  },
  {
   "cell_type": "code",
   "execution_count": 21,
   "metadata": {},
   "outputs": [
    {
     "name": "stdout",
     "output_type": "stream",
     "text": [
      "{'Amazon : Brazil', 'Indus : Pakistan', 'Nile : Egypt'}\n"
     ]
    }
   ],
   "source": [
    "rivers = {\"Nile : Egypt\",\"Amazon : Brazil\",\"Indus : Pakistan\"}\n",
    "print(rivers)"
   ]
  },
  {
   "cell_type": "code",
   "execution_count": 22,
   "metadata": {},
   "outputs": [
    {
     "ename": "AttributeError",
     "evalue": "'set' object has no attribute 'items'",
     "output_type": "error",
     "traceback": [
      "\u001b[1;31m---------------------------------------------------------------------------\u001b[0m",
      "\u001b[1;31mAttributeError\u001b[0m                            Traceback (most recent call last)",
      "\u001b[1;32m<ipython-input-22-f44cdce0a68b>\u001b[0m in \u001b[0;36m<module>\u001b[1;34m\u001b[0m\n\u001b[1;32m----> 1\u001b[1;33m \u001b[1;32mfor\u001b[0m \u001b[0mk\u001b[0m\u001b[1;33m,\u001b[0m \u001b[0mv\u001b[0m \u001b[1;32min\u001b[0m \u001b[0mrivers\u001b[0m\u001b[1;33m.\u001b[0m\u001b[0mitems\u001b[0m\u001b[1;33m(\u001b[0m\u001b[1;33m)\u001b[0m\u001b[1;33m:\u001b[0m\u001b[1;33m\u001b[0m\u001b[1;33m\u001b[0m\u001b[0m\n\u001b[0m\u001b[0;32m      2\u001b[0m     \u001b[0mprint\u001b[0m \u001b[1;33m(\u001b[0m\u001b[1;34mf'{k} runs through , {v}'\u001b[0m\u001b[1;33m)\u001b[0m\u001b[1;33m\u001b[0m\u001b[1;33m\u001b[0m\u001b[0m\n",
      "\u001b[1;31mAttributeError\u001b[0m: 'set' object has no attribute 'items'"
     ]
    }
   ],
   "source": [
    "for k, v in rivers.items():\n",
    "    print (f'{k} runs through , {v}')"
   ]
  },
  {
   "cell_type": "markdown",
   "metadata": {},
   "source": [
    "# Q15:"
   ]
  },
  {
   "cell_type": "markdown",
   "metadata": {},
   "source": [
    "Make several dictionaries, where the name of each dictionary is the\n",
    "name of a pet. In each dictionary, include the kind of animal and the owner’s\n",
    "name. Store these dictionaries in a list called pets. Next, loop through your list\n",
    "and as you do print everything you know about each pet."
   ]
  },
  {
   "cell_type": "code",
   "execution_count": 23,
   "metadata": {},
   "outputs": [
    {
     "name": "stdout",
     "output_type": "stream",
     "text": [
      "<class 'list'>\n",
      "<class 'list'>\n",
      "<class 'list'>\n",
      "<class 'list'>\n",
      "<class 'list'>\n",
      "<class 'list'>\n",
      "<class 'list'>\n",
      "<class 'list'>\n",
      "[{'Gender : Male', 'Breed : Siamese cat', 'Status : Adopted', 'Color : Black', 'Name : Tabby', \"Owner's name: Alex Sheffield\", 'Age : 10 years'}, {'Gender : Male', 'Name : Tiger', \"Owner's name: Severus Kettleburn\", 'Color : Off-white', 'Age : 8 years', 'Status : Possession since birth', 'Breed : Labrador Retriever'}, {'Age : 17 years', 'Name :Hedwig', 'Gender : Female', \"Owner's_name: Johnathan Hughes\", 'Breed : Snowy owl', 'Status : Adopted', 'Color : Snowy white'}, {'Gender : Male', 'Breed : Muscovys drake', 'Age : 6 years', 'Color : White', 'Status : Adopted', \"Owner's_name: Dacre Montogmery\", 'Name :Jake'}, {'Name : Kelly', \"Owner's_name: Jason Yaxley\", 'Gender : Female', 'Color : Grey', 'Age : 26 years', 'Status : Adopted', 'Breed : African Grey Parrot'}, {'Gender : Female', 'Breed : Hanoverian', 'Age : 25 years', 'Name : Weltmeyer', 'Status : Bred', 'Color : Chestnut', \"Owner's_name: Andrews Potter\"}, {'Gender : Male', 'Name : Cinnabunn', 'Color : Blue', 'Status : Adopted', 'Age : 4 years', 'Breed : Blue of Sint-Niklaas', \"Owner's_name: Bilius Scamandor\"}, {'Age : 3 years', 'Gender : Male', 'Color : Brown and Cream', 'Name : Mufasa', 'Status : Rescued', 'Breed : Sable ferret', \"Owner's_name : Thomas Ulrich\"}]\n"
     ]
    }
   ],
   "source": [
    "Tabby = {\"Name : Tabby\",\"Color : Black\",\"Gender : Male\",\"Age : 10 years\",\"Status : Adopted\",\"Breed : Siamese cat\",\"Owner's name: Alex Sheffield\"}\n",
    "Tiger = {\"Name : Tiger\",\"Color : Off-white\",\"Gender : Male\",\"Age : 8 years\",\"Status : Possession since birth\",\"Breed : Labrador Retriever\",\"Owner's name: Severus Kettleburn\"}\n",
    "Hedwig= {\"Name :Hedwig\",\"Color : Snowy white\",\"Gender : Female\",\"Age : 17 years\",\"Status : Adopted\",\"Breed : Snowy owl\",\"Owner's_name: Johnathan Hughes\"}\n",
    "Jake  = {\"Name :Jake\",\"Color : White\",\"Gender : Male\",\"Age : 6 years\",\"Status : Adopted\",\"Breed : Muscovys drake\",\"Owner's_name: Dacre Montogmery\"}\n",
    "Kelly = {\"Name : Kelly\",\"Color : Grey\",\"Gender : Female\",\"Age : 26 years\",\"Status : Adopted\",\"Breed : African Grey Parrot\",\"Owner's_name: Jason Yaxley\"}\n",
    "Weltmeyer = {\"Name : Weltmeyer\",\"Color : Chestnut\",\"Gender : Female\",\"Age : 25 years\",\"Status : Bred\",\"Breed : Hanoverian\",\"Owner's_name: Andrews Potter\"}\n",
    "Cinnabunn = {\"Name : Cinnabunn\",\"Color : Blue\",\"Gender : Male\",\"Age : 4 years\",\"Status : Adopted\",\"Breed : Blue of Sint-Niklaas\",\"Owner's_name: Bilius Scamandor\"}\n",
    "Mufasa = {\"Name : Mufasa\",\"Color : Brown and Cream\",\"Gender : Male\",\"Age : 3 years\",\"Status : Rescued\",\"Breed : Sable ferret\",\"Owner's_name : Thomas Ulrich\"}\n",
    "\n",
    "Pets = [Tabby,Tiger,Hedwig,Jake,Kelly,Weltmeyer,Cinnabunn,Mufasa]\n",
    "\n",
    "for a in Pets:\n",
    "#   Pets.get(\"Tabby\")\n",
    "#for k , v in Tabby.iteritems():\n",
    "   print (list)\n",
    " #   elif:\n",
    "#        print()\n",
    "print(Pets)"
   ]
  }
 ],
 "metadata": {
  "kernelspec": {
   "display_name": "Python 3",
   "language": "python",
   "name": "python3"
  },
  "language_info": {
   "codemirror_mode": {
    "name": "ipython",
    "version": 3
   },
   "file_extension": ".py",
   "mimetype": "text/x-python",
   "name": "python",
   "nbconvert_exporter": "python",
   "pygments_lexer": "ipython3",
   "version": "3.7.3"
  }
 },
 "nbformat": 4,
 "nbformat_minor": 2
}
